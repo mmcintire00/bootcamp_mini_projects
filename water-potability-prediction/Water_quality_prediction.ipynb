{
  "nbformat": 4,
  "nbformat_minor": 0,
  "metadata": {
    "colab": {
      "name": "Water-quality-prediction.ipynb",
      "provenance": [],
      "collapsed_sections": []
    },
    "kernelspec": {
      "name": "python3",
      "display_name": "Python 3"
    },
    "language_info": {
      "name": "python"
    }
  },
  "cells": [
    {
      "cell_type": "code",
      "metadata": {
        "id": "jQj8FsL_Pm38"
      },
      "source": [
        "import numpy as np\n",
        "import pandas as pd\n",
        "import matplotlib.pyplot as plt\n",
        "import statsmodels.api as sm\n",
        "import seaborn as sns\n",
        "from sklearn import linear_model\n",
        "import seaborn as sns\n",
        "import scipy.stats as stats\n",
        "from sklearn.decomposition import PCA\n",
        "from sklearn.preprocessing import StandardScaler\n",
        "from sklearn.linear_model import LogisticRegression\n",
        "from sklearn.svm import SVC\n",
        "from sklearn import ensemble\n",
        "from sklearn.model_selection import train_test_split\n",
        "from sklearn.ensemble import RandomForestClassifier\n",
        "from sklearn.model_selection import cross_val_score\n",
        "\n",
        "waterqual_df = pd.read_csv('https://github.com/mmcintire00/bootcamp_projects/blob/main/water-potability-prediction/data/water_potability.csv?raw=true')"
      ],
      "execution_count": 3,
      "outputs": []
    },
    {
      "cell_type": "code",
      "metadata": {
        "colab": {
          "base_uri": "https://localhost:8080/"
        },
        "id": "_oplm0QVSxqW",
        "outputId": "9d95ad13-b651-42be-d02d-72f06b7a4ade"
      },
      "source": [
        "waterqual_df.shape"
      ],
      "execution_count": 4,
      "outputs": [
        {
          "output_type": "execute_result",
          "data": {
            "text/plain": [
              "(3276, 10)"
            ]
          },
          "metadata": {
            "tags": []
          },
          "execution_count": 4
        }
      ]
    },
    {
      "cell_type": "code",
      "metadata": {
        "colab": {
          "base_uri": "https://localhost:8080/",
          "height": 226
        },
        "id": "0PYwZm4RRI4J",
        "outputId": "796383bc-f7ed-4653-adb3-319ef126a7d8"
      },
      "source": [
        "waterqual_df.head()"
      ],
      "execution_count": 5,
      "outputs": [
        {
          "output_type": "execute_result",
          "data": {
            "text/html": [
              "<div>\n",
              "<style scoped>\n",
              "    .dataframe tbody tr th:only-of-type {\n",
              "        vertical-align: middle;\n",
              "    }\n",
              "\n",
              "    .dataframe tbody tr th {\n",
              "        vertical-align: top;\n",
              "    }\n",
              "\n",
              "    .dataframe thead th {\n",
              "        text-align: right;\n",
              "    }\n",
              "</style>\n",
              "<table border=\"1\" class=\"dataframe\">\n",
              "  <thead>\n",
              "    <tr style=\"text-align: right;\">\n",
              "      <th></th>\n",
              "      <th>ph</th>\n",
              "      <th>Hardness</th>\n",
              "      <th>Solids</th>\n",
              "      <th>Chloramines</th>\n",
              "      <th>Sulfate</th>\n",
              "      <th>Conductivity</th>\n",
              "      <th>Organic_carbon</th>\n",
              "      <th>Trihalomethanes</th>\n",
              "      <th>Turbidity</th>\n",
              "      <th>Potability</th>\n",
              "    </tr>\n",
              "  </thead>\n",
              "  <tbody>\n",
              "    <tr>\n",
              "      <th>0</th>\n",
              "      <td>NaN</td>\n",
              "      <td>204.890455</td>\n",
              "      <td>20791.318981</td>\n",
              "      <td>7.300212</td>\n",
              "      <td>368.516441</td>\n",
              "      <td>564.308654</td>\n",
              "      <td>10.379783</td>\n",
              "      <td>86.990970</td>\n",
              "      <td>2.963135</td>\n",
              "      <td>0</td>\n",
              "    </tr>\n",
              "    <tr>\n",
              "      <th>1</th>\n",
              "      <td>3.716080</td>\n",
              "      <td>129.422921</td>\n",
              "      <td>18630.057858</td>\n",
              "      <td>6.635246</td>\n",
              "      <td>NaN</td>\n",
              "      <td>592.885359</td>\n",
              "      <td>15.180013</td>\n",
              "      <td>56.329076</td>\n",
              "      <td>4.500656</td>\n",
              "      <td>0</td>\n",
              "    </tr>\n",
              "    <tr>\n",
              "      <th>2</th>\n",
              "      <td>8.099124</td>\n",
              "      <td>224.236259</td>\n",
              "      <td>19909.541732</td>\n",
              "      <td>9.275884</td>\n",
              "      <td>NaN</td>\n",
              "      <td>418.606213</td>\n",
              "      <td>16.868637</td>\n",
              "      <td>66.420093</td>\n",
              "      <td>3.055934</td>\n",
              "      <td>0</td>\n",
              "    </tr>\n",
              "    <tr>\n",
              "      <th>3</th>\n",
              "      <td>8.316766</td>\n",
              "      <td>214.373394</td>\n",
              "      <td>22018.417441</td>\n",
              "      <td>8.059332</td>\n",
              "      <td>356.886136</td>\n",
              "      <td>363.266516</td>\n",
              "      <td>18.436524</td>\n",
              "      <td>100.341674</td>\n",
              "      <td>4.628771</td>\n",
              "      <td>0</td>\n",
              "    </tr>\n",
              "    <tr>\n",
              "      <th>4</th>\n",
              "      <td>9.092223</td>\n",
              "      <td>181.101509</td>\n",
              "      <td>17978.986339</td>\n",
              "      <td>6.546600</td>\n",
              "      <td>310.135738</td>\n",
              "      <td>398.410813</td>\n",
              "      <td>11.558279</td>\n",
              "      <td>31.997993</td>\n",
              "      <td>4.075075</td>\n",
              "      <td>0</td>\n",
              "    </tr>\n",
              "  </tbody>\n",
              "</table>\n",
              "</div>"
            ],
            "text/plain": [
              "         ph    Hardness        Solids  ...  Trihalomethanes  Turbidity  Potability\n",
              "0       NaN  204.890455  20791.318981  ...        86.990970   2.963135           0\n",
              "1  3.716080  129.422921  18630.057858  ...        56.329076   4.500656           0\n",
              "2  8.099124  224.236259  19909.541732  ...        66.420093   3.055934           0\n",
              "3  8.316766  214.373394  22018.417441  ...       100.341674   4.628771           0\n",
              "4  9.092223  181.101509  17978.986339  ...        31.997993   4.075075           0\n",
              "\n",
              "[5 rows x 10 columns]"
            ]
          },
          "metadata": {
            "tags": []
          },
          "execution_count": 5
        }
      ]
    },
    {
      "cell_type": "code",
      "metadata": {
        "colab": {
          "base_uri": "https://localhost:8080/"
        },
        "id": "i6QZ47yGRM1V",
        "outputId": "210041ae-468c-4833-dd95-fbfd6e2bef49"
      },
      "source": [
        "# percentage of null values for each variable\n",
        "(waterqual_df.isnull().sum()*100)/(waterqual_df.isnull().count())"
      ],
      "execution_count": 6,
      "outputs": [
        {
          "output_type": "execute_result",
          "data": {
            "text/plain": [
              "ph                 14.987790\n",
              "Hardness            0.000000\n",
              "Solids              0.000000\n",
              "Chloramines         0.000000\n",
              "Sulfate            23.840049\n",
              "Conductivity        0.000000\n",
              "Organic_carbon      0.000000\n",
              "Trihalomethanes     4.945055\n",
              "Turbidity           0.000000\n",
              "Potability          0.000000\n",
              "dtype: float64"
            ]
          },
          "metadata": {
            "tags": []
          },
          "execution_count": 6
        }
      ]
    },
    {
      "cell_type": "code",
      "metadata": {
        "id": "9svwKYzFRKrZ"
      },
      "source": [
        "# continuous float variables...will fill null values with mean\n",
        "waterqual_df['ph'] = waterqual_df['ph'].fillna(waterqual_df['ph'].mean())\n",
        "waterqual_df['Sulfate'] = waterqual_df['Sulfate'].fillna(waterqual_df['Sulfate'].mean())\n",
        "waterqual_df['Trihalomethanes'] = waterqual_df['Trihalomethanes'].fillna(waterqual_df['Trihalomethanes'].mean())"
      ],
      "execution_count": 7,
      "outputs": []
    },
    {
      "cell_type": "code",
      "metadata": {
        "colab": {
          "base_uri": "https://localhost:8080/"
        },
        "id": "Fm7cizMxTgZJ",
        "outputId": "cd48ea4f-9023-4f38-aa66-20185d0d04e7"
      },
      "source": [
        "#check to see if null values have been removed\n",
        "(waterqual_df.isnull().sum()*100)/(waterqual_df.isnull().count())"
      ],
      "execution_count": 8,
      "outputs": [
        {
          "output_type": "execute_result",
          "data": {
            "text/plain": [
              "ph                 0.0\n",
              "Hardness           0.0\n",
              "Solids             0.0\n",
              "Chloramines        0.0\n",
              "Sulfate            0.0\n",
              "Conductivity       0.0\n",
              "Organic_carbon     0.0\n",
              "Trihalomethanes    0.0\n",
              "Turbidity          0.0\n",
              "Potability         0.0\n",
              "dtype: float64"
            ]
          },
          "metadata": {
            "tags": []
          },
          "execution_count": 8
        }
      ]
    },
    {
      "cell_type": "code",
      "metadata": {
        "colab": {
          "base_uri": "https://localhost:8080/",
          "height": 418
        },
        "id": "HTYVtPijSMO3",
        "outputId": "71698c23-60c8-47d1-d660-9748aa2be1a4"
      },
      "source": [
        "# compare distribution of data with/without null values\n",
        "plt.figure(figsize=(18,12))\n",
        "\n",
        "var_list = waterqual_df.columns.unique()\n",
        "\n",
        "for index, column in enumerate(var_list):\n",
        "  plt.subplot(3,5,index+1)\n",
        "  plt.hist(waterqual_df[column])\n",
        "  plt.title('Distribution of {}'.format(column))\n",
        "\n",
        "plt.tight_layout()\n",
        "plt.show()"
      ],
      "execution_count": 9,
      "outputs": [
        {
          "output_type": "display_data",
          "data": {
            "image/png": "[encoded data removed]",
            "text/plain": [
              "<Figure size 1296x864 with 10 Axes>"
            ]
          },
          "metadata": {
            "tags": [],
            "needs_background": "light"
          }
        }
      ]
    },
    {
      "cell_type": "code",
      "metadata": {
        "colab": {
          "base_uri": "https://localhost:8080/"
        },
        "id": "qi6qDsD7fume",
        "outputId": "c3c73622-cf47-40bc-ff04-36e0b2aaebb8"
      },
      "source": [
        "# normality of distributions\n",
        "print(stats.describe(waterqual_df['ph']))\n",
        "print(stats.describe(waterqual_df['Sulfate']))\n",
        "print(stats.describe(waterqual_df['Hardness']))\n",
        "print(stats.describe(waterqual_df['Solids']))\n",
        "print(stats.describe(waterqual_df['Chloramines']))\n",
        "print(stats.describe(waterqual_df['Conductivity']))\n",
        "print(stats.describe(waterqual_df['Organic_carbon']))\n",
        "print(stats.describe(waterqual_df['Trihalomethanes']))\n",
        "print(stats.describe(waterqual_df['Turbidity']))"
      ],
      "execution_count": 10,
      "outputs": [
        {
          "output_type": "stream",
          "text": [
            "DescribeResult(nobs=3276, minmax=(0.0, 13.999999999999998), mean=7.080794504276834, variance=2.1607705532875494, skewness=0.02778315290297795, kurtosis=1.3721594794857088)\n",
            "DescribeResult(nobs=3276, minmax=(129.00000000000003, 481.03064230599716), mean=333.7757766108134, variance=1306.2884142064602, skewness=-0.041165512875302186, kurtosis=1.785402981768775)\n",
            "DescribeResult(nobs=3276, minmax=(47.431999999999995, 323.124), mean=196.36949601730154, variance=1081.0787147379976, skewness=-0.03932368888404235, kurtosis=0.6130013182749221)\n",
            "DescribeResult(nobs=3276, minmax=(320.942611274359, 61227.196007712126), mean=22014.092526077104, variance=76887834.36189838, skewness=0.6213498181329244, kurtosis=0.44031956762263125)\n",
            "DescribeResult(nobs=3276, minmax=(0.3520000000000003, 13.127000000000002), mean=7.122276793425786, variance=2.5061577659058702, skewness=-0.012092899840854135, kurtosis=0.5871702727436965)\n",
            "DescribeResult(nobs=3276, minmax=(181.483753985146, 753.3426195583046), mean=426.20511068255325, variance=6532.529329738223, skewness=0.2643691049378588, kurtosis=-0.27850104314580815)\n",
            "DescribeResult(nobs=3276, minmax=(2.1999999999999886, 28.300000000000008), mean=14.284970247677318, variance=10.943935812467116, skewness=0.025520889860291527, kurtosis=0.042510613396353314)\n",
            "DescribeResult(nobs=3276, minmax=(0.7379999999999995, 124.0), mean=66.39629294676803, variance=248.6891553555368, skewness=-0.08512202173612847, kurtosis=0.4046501656277819)\n",
            "DescribeResult(nobs=3276, minmax=(1.45, 6.739), mean=3.966786169791058, variance=0.608996703473493, skewness=-0.007813062873377042, kurtosis=-0.06453577483679895)\n"
          ],
          "name": "stdout"
        }
      ]
    },
    {
      "cell_type": "code",
      "metadata": {
        "colab": {
          "base_uri": "https://localhost:8080/"
        },
        "id": "Flj-ic3xlUj5",
        "outputId": "a3d4e6ac-c4cd-4432-d9d6-244eaf054d13"
      },
      "source": [
        "corr_with_qual = waterqual_df.corrwith(waterqual_df['Potability']).sort_values(ascending=False)\n",
        "print(corr_with_qual)"
      ],
      "execution_count": 11,
      "outputs": [
        {
          "output_type": "stream",
          "text": [
            "Potability         1.000000\n",
            "Solids             0.033743\n",
            "Chloramines        0.023779\n",
            "Trihalomethanes    0.006960\n",
            "Turbidity          0.001581\n",
            "ph                -0.003287\n",
            "Conductivity      -0.008128\n",
            "Hardness          -0.013837\n",
            "Sulfate           -0.020619\n",
            "Organic_carbon    -0.030001\n",
            "dtype: float64\n"
          ],
          "name": "stdout"
        }
      ]
    },
    {
      "cell_type": "code",
      "metadata": {
        "id": "U0aG8_KThs5O"
      },
      "source": [
        "# split data into features (X) and target (Y)\n",
        "X = waterqual_df.drop(columns='Potability') # model features\n",
        "Y = waterqual_df['Potability'] # target \n",
        "\n",
        "# scale all values \n",
        "scaler = StandardScaler()\n",
        "X = scaler.fit_transform(X)\n",
        "X = pd.DataFrame(X)\n",
        "\n",
        "# add a constant\n",
        "X = sm.add_constant(X)\n",
        "\n",
        "# split into train and test data\n",
        "X_train, X_test, y_train, y_test = train_test_split(X,Y, test_size=0.2, random_state=42)"
      ],
      "execution_count": 12,
      "outputs": []
    },
    {
      "cell_type": "code",
      "metadata": {
        "colab": {
          "base_uri": "https://localhost:8080/",
          "height": 320
        },
        "id": "XQ-oEhGIKWRm",
        "outputId": "18b4bc58-6b15-42c7-ee2e-05a3f9087afd"
      },
      "source": [
        "X.describe() # check that data scaling successful"
      ],
      "execution_count": 13,
      "outputs": [
        {
          "output_type": "execute_result",
          "data": {
            "text/html": [
              "<div>\n",
              "<style scoped>\n",
              "    .dataframe tbody tr th:only-of-type {\n",
              "        vertical-align: middle;\n",
              "    }\n",
              "\n",
              "    .dataframe tbody tr th {\n",
              "        vertical-align: top;\n",
              "    }\n",
              "\n",
              "    .dataframe thead th {\n",
              "        text-align: right;\n",
              "    }\n",
              "</style>\n",
              "<table border=\"1\" class=\"dataframe\">\n",
              "  <thead>\n",
              "    <tr style=\"text-align: right;\">\n",
              "      <th></th>\n",
              "      <th>const</th>\n",
              "      <th>0</th>\n",
              "      <th>1</th>\n",
              "      <th>2</th>\n",
              "      <th>3</th>\n",
              "      <th>4</th>\n",
              "      <th>5</th>\n",
              "      <th>6</th>\n",
              "      <th>7</th>\n",
              "      <th>8</th>\n",
              "    </tr>\n",
              "  </thead>\n",
              "  <tbody>\n",
              "    <tr>\n",
              "      <th>count</th>\n",
              "      <td>3276.0</td>\n",
              "      <td>3.276000e+03</td>\n",
              "      <td>3.276000e+03</td>\n",
              "      <td>3.276000e+03</td>\n",
              "      <td>3.276000e+03</td>\n",
              "      <td>3.276000e+03</td>\n",
              "      <td>3.276000e+03</td>\n",
              "      <td>3.276000e+03</td>\n",
              "      <td>3.276000e+03</td>\n",
              "      <td>3.276000e+03</td>\n",
              "    </tr>\n",
              "    <tr>\n",
              "      <th>mean</th>\n",
              "      <td>1.0</td>\n",
              "      <td>-1.093278e-16</td>\n",
              "      <td>2.123289e-16</td>\n",
              "      <td>-6.286519e-17</td>\n",
              "      <td>5.102247e-16</td>\n",
              "      <td>7.356524e-16</td>\n",
              "      <td>1.878161e-16</td>\n",
              "      <td>-6.134016e-18</td>\n",
              "      <td>1.824955e-16</td>\n",
              "      <td>5.571449e-16</td>\n",
              "    </tr>\n",
              "    <tr>\n",
              "      <th>std</th>\n",
              "      <td>0.0</td>\n",
              "      <td>1.000153e+00</td>\n",
              "      <td>1.000153e+00</td>\n",
              "      <td>1.000153e+00</td>\n",
              "      <td>1.000153e+00</td>\n",
              "      <td>1.000153e+00</td>\n",
              "      <td>1.000153e+00</td>\n",
              "      <td>1.000153e+00</td>\n",
              "      <td>1.000153e+00</td>\n",
              "      <td>1.000153e+00</td>\n",
              "    </tr>\n",
              "    <tr>\n",
              "      <th>min</th>\n",
              "      <td>1.0</td>\n",
              "      <td>-4.817747e+00</td>\n",
              "      <td>-4.530454e+00</td>\n",
              "      <td>-2.474344e+00</td>\n",
              "      <td>-4.277288e+00</td>\n",
              "      <td>-5.666636e+00</td>\n",
              "      <td>-3.028290e+00</td>\n",
              "      <td>-3.653635e+00</td>\n",
              "      <td>-4.164160e+00</td>\n",
              "      <td>-3.225560e+00</td>\n",
              "    </tr>\n",
              "    <tr>\n",
              "      <th>25%</th>\n",
              "      <td>1.0</td>\n",
              "      <td>-5.464412e-01</td>\n",
              "      <td>-5.937372e-01</td>\n",
              "      <td>-7.239916e-01</td>\n",
              "      <td>-6.285247e-01</td>\n",
              "      <td>-4.616071e-01</td>\n",
              "      <td>-7.482911e-01</td>\n",
              "      <td>-6.709187e-01</td>\n",
              "      <td>-6.182751e-01</td>\n",
              "      <td>-6.755095e-01</td>\n",
              "    </tr>\n",
              "    <tr>\n",
              "      <th>50%</th>\n",
              "      <td>1.0</td>\n",
              "      <td>-8.460387e-15</td>\n",
              "      <td>1.819424e-02</td>\n",
              "      <td>-1.238999e-01</td>\n",
              "      <td>5.068209e-03</td>\n",
              "      <td>-1.572994e-15</td>\n",
              "      <td>-5.345935e-02</td>\n",
              "      <td>-2.014487e-02</td>\n",
              "      <td>0.000000e+00</td>\n",
              "      <td>-1.507005e-02</td>\n",
              "    </tr>\n",
              "    <tr>\n",
              "      <th>75%</th>\n",
              "      <td>1.0</td>\n",
              "      <td>5.370064e-01</td>\n",
              "      <td>6.174333e-01</td>\n",
              "      <td>6.066532e-01</td>\n",
              "      <td>6.271058e-01</td>\n",
              "      <td>4.596379e-01</td>\n",
              "      <td>6.878605e-01</td>\n",
              "      <td>6.870970e-01</td>\n",
              "      <td>6.513609e-01</td>\n",
              "      <td>6.837866e-01</td>\n",
              "    </tr>\n",
              "    <tr>\n",
              "      <th>max</th>\n",
              "      <td>1.0</td>\n",
              "      <td>4.707802e+00</td>\n",
              "      <td>3.855680e+00</td>\n",
              "      <td>4.472689e+00</td>\n",
              "      <td>3.793631e+00</td>\n",
              "      <td>4.074895e+00</td>\n",
              "      <td>4.048144e+00</td>\n",
              "      <td>4.237147e+00</td>\n",
              "      <td>3.653325e+00</td>\n",
              "      <td>3.552921e+00</td>\n",
              "    </tr>\n",
              "  </tbody>\n",
              "</table>\n",
              "</div>"
            ],
            "text/plain": [
              "        const             0  ...             7             8\n",
              "count  3276.0  3.276000e+03  ...  3.276000e+03  3.276000e+03\n",
              "mean      1.0 -1.093278e-16  ...  1.824955e-16  5.571449e-16\n",
              "std       0.0  1.000153e+00  ...  1.000153e+00  1.000153e+00\n",
              "min       1.0 -4.817747e+00  ... -4.164160e+00 -3.225560e+00\n",
              "25%       1.0 -5.464412e-01  ... -6.182751e-01 -6.755095e-01\n",
              "50%       1.0 -8.460387e-15  ...  0.000000e+00 -1.507005e-02\n",
              "75%       1.0  5.370064e-01  ...  6.513609e-01  6.837866e-01\n",
              "max       1.0  4.707802e+00  ...  3.653325e+00  3.552921e+00\n",
              "\n",
              "[8 rows x 10 columns]"
            ]
          },
          "metadata": {
            "tags": []
          },
          "execution_count": 13
        }
      ]
    },
    {
      "cell_type": "code",
      "metadata": {
        "colab": {
          "base_uri": "https://localhost:8080/"
        },
        "id": "EuPsKBg0NYcS",
        "outputId": "3662fb59-320c-444a-a357-7f7349a328d3"
      },
      "source": [
        "sklearn_pca = PCA(n_components=0.95)\n",
        "sklearn_pca.fit(X)\n",
        "sklearn_pca.explained_variance_ratio_"
      ],
      "execution_count": 14,
      "outputs": [
        {
          "output_type": "execute_result",
          "data": {
            "text/plain": [
              "array([0.13338306, 0.12632158, 0.11732755, 0.11370298, 0.11044415,\n",
              "       0.10744622, 0.10566013, 0.0985114 , 0.08720294])"
            ]
          },
          "metadata": {
            "tags": []
          },
          "execution_count": 14
        }
      ]
    },
    {
      "cell_type": "code",
      "metadata": {
        "id": "aOMT_OkTOabA"
      },
      "source": [
        "X = sklearn_pca.transform(X)"
      ],
      "execution_count": 15,
      "outputs": []
    },
    {
      "cell_type": "code",
      "metadata": {
        "colab": {
          "base_uri": "https://localhost:8080/"
        },
        "id": "RMrQLYgaJSct",
        "outputId": "9faa1d25-cee3-4fc2-be21-7510bf7c1634"
      },
      "source": [
        "lr = LogisticRegression(solver='lbfgs', penalty='l2', max_iter=500, random_state=42)\n",
        "lr.fit(X_train, y_train)\n",
        "\n",
        "print('Training score: %s' % lr.score(X_train, y_train))\n",
        "print('Test score: %s' % lr.score(X_test, y_test))\n",
        "print('Number of iterations: %s' % lr.n_iter_[0])"
      ],
      "execution_count": 16,
      "outputs": [
        {
          "output_type": "stream",
          "text": [
            "Training score: 0.6053435114503817\n",
            "Test score: 0.6280487804878049\n",
            "Number of iterations: 17\n"
          ],
          "name": "stdout"
        }
      ]
    },
    {
      "cell_type": "code",
      "metadata": {
        "colab": {
          "base_uri": "https://localhost:8080/"
        },
        "id": "v-6IMZRONdmh",
        "outputId": "b0246181-7035-4e7d-cffa-394a4cb955a4"
      },
      "source": [
        "from sklearn.neighbors import KNeighborsClassifier\n",
        "knn = KNeighborsClassifier(n_neighbors = 45)\n",
        "knn.fit(X_train,y_train)\n",
        "\n",
        "print('training score: {:.3f}'.format(knn.score(X_train, y_train)))\n",
        "print('test score: {:.3f}'.format(knn.score(X_test, y_test)))"
      ],
      "execution_count": 17,
      "outputs": [
        {
          "output_type": "stream",
          "text": [
            "training score: 0.663\n",
            "test score: 0.672\n"
          ],
          "name": "stdout"
        }
      ]
    },
    {
      "cell_type": "code",
      "metadata": {
        "colab": {
          "base_uri": "https://localhost:8080/"
        },
        "id": "H4yNmKZOPifw",
        "outputId": "fa950dda-8dc4-4ecb-c18f-2ab4a9408fec"
      },
      "source": [
        "svm = SVC(kernel='linear')\n",
        "svm.fit(X_train, y_train)\n",
        "\n",
        "Y_ = svm.predict(X_test)\n",
        "svm.score(X_test, y_test)"
      ],
      "execution_count": 18,
      "outputs": [
        {
          "output_type": "execute_result",
          "data": {
            "text/plain": [
              "0.6280487804878049"
            ]
          },
          "metadata": {
            "tags": []
          },
          "execution_count": 18
        }
      ]
    },
    {
      "cell_type": "code",
      "metadata": {
        "colab": {
          "base_uri": "https://localhost:8080/"
        },
        "id": "pwSCMfijWVnL",
        "outputId": "831e2caa-74ab-49ce-e024-958fb4d6c293"
      },
      "source": [
        "cross_val_score(svm, X_test, y_test, cv=10)"
      ],
      "execution_count": 19,
      "outputs": [
        {
          "output_type": "execute_result",
          "data": {
            "text/plain": [
              "array([0.63636364, 0.63636364, 0.62121212, 0.62121212, 0.62121212,\n",
              "       0.62121212, 0.63076923, 0.63076923, 0.63076923, 0.63076923])"
            ]
          },
          "metadata": {
            "tags": []
          },
          "execution_count": 19
        }
      ]
    },
    {
      "cell_type": "code",
      "metadata": {
        "colab": {
          "base_uri": "https://localhost:8080/"
        },
        "id": "UjDxvPDNTxza",
        "outputId": "343451a4-4425-46b0-c0fc-c3e8163fe82c"
      },
      "source": [
        "rfc = ensemble.RandomForestClassifier(n_estimators=1000)\n",
        "rfc.fit(X_train, y_train)\n",
        "\n",
        "print('Training score: %s' % np.mean(cross_val_score(rfc, X_train, y_train, cv=5)))\n",
        "print('Test score: %s' % np.mean(cross_val_score(rfc, X_test, y_test, cv=5)))"
      ],
      "execution_count": 20,
      "outputs": [
        {
          "output_type": "stream",
          "text": [
            "Training score: 0.6774809160305344\n",
            "Test score: 0.6525098311357853\n"
          ],
          "name": "stdout"
        }
      ]
    },
    {
      "cell_type": "code",
      "metadata": {
        "id": "Q_H0YKIjgKDy"
      },
      "source": [
        ""
      ],
      "execution_count": 20,
      "outputs": []
    }
  ]
}